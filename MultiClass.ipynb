{
 "cells": [
  {
   "cell_type": "code",
   "execution_count": 1,
   "metadata": {},
   "outputs": [],
   "source": [
    "import numpy as np"
   ]
  },
  {
   "cell_type": "code",
   "execution_count": 2,
   "metadata": {},
   "outputs": [],
   "source": [
    "class MultiClass:\n",
    "    \n",
    "    def __init__(self, rate=0.01, cycles=1000):\n",
    "        self.rate = rate\n",
    "        self.cycles = cycles\n",
    "    \n",
    "    def run(self, points, ids):\n",
    "        self.theta = np.zeros((4, len(points[0])))\n",
    "        self.best_theta = np.zeros((4, len(points[0])))\n",
    "        self.bias = np.zeros(4)\n",
    "        self.best_bias = np.zeros(4)\n",
    "        self.best_miss_count = len(ids)\n",
    "        \n",
    "        self.loss = np.zeros(self.cycles)\n",
    "        \n",
    "        for i in range(self.cycles):\n",
    "            for point, truth in zip(points, ids):\n",
    "                self.compute_loss(i, point, truth)\n",
    "                error = truth - self.predict(point)\n",
    "                if error == 0:\n",
    "                    shift = 0\n",
    "                else:\n",
    "                    shift = self.rate\n",
    "                \n",
    "                for index in [0, 1, 2, 3]:\n",
    "                    if index != truth:\n",
    "                        dot = np.dot(point, self.theta[index]) + self.bias[index]\n",
    "                        self.bias[index] -= shift * np.exp(dot)\n",
    "                        self.theta[index] -= shift * point * np.exp(dot)\n",
    "                \n",
    "                self.compute_miss(points, ids)\n",
    "\n",
    "        self.report(points, ids)\n",
    "        return self\n",
    "    \n",
    "    def compute_loss(self, i, x, y):\n",
    "        dot0 = np.dot(x, self.theta[0]) + self.bias[0]\n",
    "        dot1 = np.dot(x, self.theta[1]) + self.bias[1]\n",
    "        dot2 = np.dot(x, self.theta[2]) + self.bias[2]\n",
    "        dot3 = np.dot(x, self.theta[3]) + self.bias[3]\n",
    "        exp_sum = np.exp(dot0) + np.exp(dot1) + np.exp(dot2) + np.exp(dot3)\n",
    "        self.loss[i] += exp_sum - np.exp(np.dot(x, self.theta[y]) + self.bias[y])\n",
    "    \n",
    "    def predict(self, ds):\n",
    "        dot0 = np.dot(ds, self.theta[0]) + self.bias[0]\n",
    "        dot1 = np.dot(ds, self.theta[1]) + self.bias[1]\n",
    "        dot2 = np.dot(ds, self.theta[2]) + self.bias[2]\n",
    "        dot3 = np.dot(ds, self.theta[3]) + self.bias[3]\n",
    "        dot_list = [dot0, dot1, dot2, dot3]\n",
    "        return np.argmax(dot_list, axis=0)\n",
    "    \n",
    "    def compute_miss(self, points, ids):\n",
    "        miss_count = 0\n",
    "        miss = []\n",
    "        for point, truth in zip(points, ids):\n",
    "            prediction = self.predict(point)\n",
    "            if truth - prediction != 0:\n",
    "                miss_count += 1\n",
    "                miss.append(point)\n",
    "        if miss_count <= self.best_miss_count:\n",
    "            self.best_miss_count = miss_count\n",
    "            self.best_miss = miss\n",
    "            self.best_bias[0] = self.bias[0]\n",
    "            self.best_theta[0] = self.theta[0]\n",
    "            self.best_bias[1] = self.bias[1]\n",
    "            self.best_theta[1] = self.theta[1]\n",
    "            self.best_bias[2] = self.bias[2]\n",
    "            self.best_theta[2] = self.theta[2]\n",
    "            self.best_bias[3] = self.bias[3]\n",
    "            self.best_theta[3] = self.theta[3]\n",
    "    \n",
    "    def report(self, points, ids):\n",
    "        miss = []\n",
    "        for point, truth in zip(points, ids):\n",
    "            prediction = self.predict(point)\n",
    "            if truth - prediction != 0:\n",
    "                miss.append([point, prediction, truth])\n",
    "        if len(miss) > 0:\n",
    "            print(\"Mislabeled:\")\n",
    "            for c in miss:\n",
    "                print(\"{0}, prediction: {1}, truth: {2}\".format(c[0], c[1], c[2]))"
   ]
  },
  {
   "cell_type": "code",
   "execution_count": 3,
   "metadata": {},
   "outputs": [],
   "source": [
    "multi = MultiClass()"
   ]
  },
  {
   "cell_type": "code",
   "execution_count": 4,
   "metadata": {},
   "outputs": [],
   "source": [
    "data = np.load('data.npz')\n",
    "trainx = data['x']\n",
    "trainy = data['y']\n",
    "testx = data['testx']\n",
    "testy = data['testy']"
   ]
  },
  {
   "cell_type": "code",
   "execution_count": null,
   "metadata": {},
   "outputs": [],
   "source": [
    "out = multi.run(trainx, trainy)"
   ]
  },
  {
   "cell_type": "code",
   "execution_count": null,
   "metadata": {},
   "outputs": [],
   "source": [
    "print(out.theta)\n",
    "print(out.bias)\n",
    "print(out.best_theta)\n",
    "print(out.best_bias)\n",
    "print(out.best_miss)\n",
    "\n",
    "print(len(out.best_miss))\n",
    "print(len(trainy))"
   ]
  },
  {
   "cell_type": "code",
   "execution_count": null,
   "metadata": {},
   "outputs": [],
   "source": [
    "%matplotlib inline\n",
    "import matplotlib.pyplot as plt\n",
    "from mlxtend.plotting import plot_decision_regions"
   ]
  },
  {
   "cell_type": "code",
   "execution_count": null,
   "metadata": {},
   "outputs": [],
   "source": [
    "plt.plot(out.loss)\n",
    "plt.xscale('log')\n",
    "plt.xlabel('Cycles')\n",
    "plt.ylabel('Loss')"
   ]
  },
  {
   "cell_type": "code",
   "execution_count": null,
   "metadata": {},
   "outputs": [],
   "source": [
    "plot_decision_regions(testx, testy, clf=multi)"
   ]
  },
  {
   "cell_type": "code",
   "execution_count": null,
   "metadata": {},
   "outputs": [],
   "source": []
  }
 ],
 "metadata": {
  "kernelspec": {
   "display_name": "Python 3",
   "language": "python",
   "name": "python3"
  },
  "language_info": {
   "codemirror_mode": {
    "name": "ipython",
    "version": 3
   },
   "file_extension": ".py",
   "mimetype": "text/x-python",
   "name": "python",
   "nbconvert_exporter": "python",
   "pygments_lexer": "ipython3",
   "version": "3.5.2"
  }
 },
 "nbformat": 4,
 "nbformat_minor": 2
}
